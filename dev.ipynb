{
 "cells": [
  {
   "cell_type": "markdown",
   "id": "1930fb65-892d-4cbe-9297-5e3d135b3c8e",
   "metadata": {},
   "source": [
    "# Imports"
   ]
  },
  {
   "cell_type": "code",
   "execution_count": 1,
   "id": "e74c61c7-ab5c-4042-a3c4-4a414df31c3e",
   "metadata": {},
   "outputs": [],
   "source": [
    "%load_ext autoreload\n",
    "%autoreload 2"
   ]
  },
  {
   "cell_type": "code",
   "execution_count": 187,
   "id": "e4839ed3-a475-4236-9d13-7e0405ec86e5",
   "metadata": {},
   "outputs": [],
   "source": [
    "from datetime import datetime, date, timedelta, timezone\n",
    "from scipy.stats import norm\n",
    "\n",
    "import yfinance as yf\n",
    "import pandas as pd\n",
    "import numpy as np\n",
    "from typing import List, Tuple"
   ]
  },
  {
   "cell_type": "markdown",
   "id": "a4305b47-ff3e-4c75-a699-621f839ab472",
   "metadata": {},
   "source": [
    "# Exploration"
   ]
  },
  {
   "cell_type": "code",
   "execution_count": 3,
   "id": "d6fb65cb-36d2-4fb8-be6b-d555f736ea59",
   "metadata": {},
   "outputs": [],
   "source": [
    "msft = yf.Ticker(\"MSFT\")\n",
    "\n",
    "# get all stock info\n",
    "# msft.info\n",
    "\n",
    "# get historical market data\n",
    "# hist = msft.history(period=\"1mo\")\n",
    "\n",
    "# show meta information about the history (requires history() to be called first)\n",
    "# msft.history_metadata\n",
    "\n",
    "# show actions (dividends, splits, capital gains)\n",
    "# msft.actions\n",
    "# msft.dividends\n",
    "# msft.splits\n",
    "# msft.capital_gains  # only for mutual funds & etfs\n",
    "\n",
    "# show share count\n",
    "# msft.get_shares_full(start=\"2024-01-01\", end=None)\n",
    "\n",
    "# show financials:\n",
    "# # - income statement\n",
    "# msft.income_stmt\n",
    "# msft.quarterly_income_stmt\n",
    "# # - balance sheet\n",
    "# msft.balance_sheet\n",
    "# msft.quarterly_balance_sheet\n",
    "# # - cash flow statement\n",
    "# msft.cashflow\n",
    "# msft.quarterly_cashflow\n",
    "# # see `Ticker.get_income_stmt()` for more options\n",
    "\n",
    "# show holders\n",
    "# msft.major_holders\n",
    "# msft.institutional_holders\n",
    "# msft.mutualfund_holders\n",
    "# msft.insider_transactions\n",
    "# msft.insider_purchases\n",
    "# msft.insider_roster_holders\n",
    "\n",
    "# show recommendations\n",
    "# msft.recommendations\n",
    "# msft.recommendations_summary\n",
    "# msft.upgrades_downgrades\n",
    "\n",
    "# Show future and historic earnings dates, returns at most next 4 quarters and last 8 quarters by default.\n",
    "# Note: If more are needed use msft.get_earnings_dates(limit=XX) with increased limit argument.\n",
    "# msft.earnings_dates\n",
    "\n",
    "# show ISIN code - *experimental*\n",
    "# ISIN = International Securities Identification Number\n",
    "# msft.isin\n",
    "\n",
    "# show options expirations\n",
    "# msft.options\n",
    "\n",
    "# show news\n",
    "# msft.news"
   ]
  },
  {
   "cell_type": "code",
   "execution_count": 173,
   "id": "6d0258b7-8658-407c-a533-81ac976a1bfd",
   "metadata": {
    "tags": []
   },
   "outputs": [],
   "source": [
    "# hist"
   ]
  },
  {
   "cell_type": "code",
   "execution_count": 174,
   "id": "d043e357-55ff-489c-a5cc-c1ad0f4a5a27",
   "metadata": {},
   "outputs": [],
   "source": [
    "# # get option chain for specific expiration\n",
    "# opt = msft.option_chain() #'2024-08-16')\n",
    "# # data available via: opt.calls, opt.puts"
   ]
  },
  {
   "cell_type": "code",
   "execution_count": 175,
   "id": "e283357b-5ec3-41b5-8a57-680b8da5d7d8",
   "metadata": {
    "tags": []
   },
   "outputs": [],
   "source": [
    "# opt.calls"
   ]
  },
  {
   "cell_type": "code",
   "execution_count": 176,
   "id": "a3a25032-7db3-457a-9eea-14ee20447ea4",
   "metadata": {},
   "outputs": [],
   "source": [
    "# # Create Ticker object\n",
    "# ticker = yf.Ticker(\"AAPL\")\n",
    "\n",
    "# # Get available expiration dates\n",
    "# expirations = ticker.options\n",
    "\n",
    "# # Choose an expiration date\n",
    "# expiration_date = expirations[0]\n",
    "\n",
    "# # Fetch option chain\n",
    "# option_chain = ticker.option_chain(expiration_date)\n",
    "\n",
    "# # Select a specific call option\n",
    "# call_option = option_chain.calls.iloc[0]\n",
    "# call_symbol = call_option['contractSymbol']\n",
    "\n",
    "# # Fetch historical data for the call option\n",
    "# call_history = yf.Ticker(call_symbol).history(period=\"1mo\")\n",
    "\n",
    "# # Print historical prices and current open interest\n",
    "# print(\"Historical prices for\", call_symbol)\n",
    "# print(call_history[['Open', 'High', 'Low', 'Close', 'Volume']])\n",
    "# print(\"\\nCurrent Open Interest:\", call_option['openInterest'])"
   ]
  },
  {
   "cell_type": "markdown",
   "id": "cb1573d0-af2e-4bef-b961-3c84d3cb86b4",
   "metadata": {},
   "source": [
    "# Options"
   ]
  },
  {
   "cell_type": "code",
   "execution_count": 209,
   "id": "8c22dde9-ae06-415d-a657-54870a029f7c",
   "metadata": {},
   "outputs": [],
   "source": [
    "def weighted_average(values: List[float], weights: List[float]) -> float:\n",
    "    return round(np.average(values, weights=weights), 4) if len(values) == len(weights) else np.nan\n",
    "\n",
    "def get_stock_data(tickers: List[str]) -> pd.DataFrame:\n",
    "    data = []\n",
    "    for t in tickers:\n",
    "        try:\n",
    "            ticker = yf.Ticker(t)\n",
    "            \n",
    "            # Get shares outstanding\n",
    "            shares_outstanding = ticker.info.get('sharesOutstanding', np.nan)\n",
    "            \n",
    "            # Get options data\n",
    "            options_data = get_options_data(ticker)\n",
    "            if options_data is None:\n",
    "                continue\n",
    "            \n",
    "            oi_calls, oi_puts, iv = options_data\n",
    "            oi_total = oi_calls + oi_puts\n",
    "            \n",
    "            # Calculate ratio\n",
    "            ratio = round((oi_total * 100) / shares_outstanding, 4) if shares_outstanding else np.nan\n",
    "            \n",
    "            # Get company name\n",
    "            company_name = ticker.info.get('longName', 'N/A')\n",
    "            \n",
    "            # Get next earnings date\n",
    "            next_earnings = get_next_earnings_date(ticker)\n",
    "            \n",
    "            # Create DataFrame\n",
    "            df = pd.DataFrame({\n",
    "                'ticker': [t],\n",
    "                'name': [company_name],\n",
    "                'shares': [shares_outstanding],\n",
    "                'calls_oi': [oi_calls],\n",
    "                'puts_oi': [oi_puts],\n",
    "                'total_oi': [oi_total],\n",
    "                'ratio': [ratio],\n",
    "                'iv': [iv],\n",
    "                'next_earnings': [next_earnings]\n",
    "            })\n",
    "            \n",
    "            data.append(df)\n",
    "        except Exception as e:\n",
    "            print(f\"Error processing {t}: {str(e)}\")\n",
    "            continue\n",
    "    \n",
    "    return pd.concat(data, ignore_index=True) if data else pd.DataFrame()\n",
    "\n",
    "def get_options_data(ticker: yf.Ticker) -> Tuple[int, int, float]:\n",
    "    try:\n",
    "        options = ticker.options\n",
    "        oi_calls, oi_puts = 0, 0\n",
    "        iv_weighted_sum, total_weight = 0, 0\n",
    "        \n",
    "        for date in options:\n",
    "            opt = ticker.option_chain(date)\n",
    "            \n",
    "            calls_oi = opt.calls['openInterest'].fillna(0).astype(int)\n",
    "            puts_oi = opt.puts['openInterest'].fillna(0).astype(int)\n",
    "            \n",
    "            oi_calls += calls_oi.sum()\n",
    "            oi_puts += puts_oi.sum()\n",
    "            \n",
    "            calls_iv = opt.calls['impliedVolatility'].fillna(0)\n",
    "            puts_iv = opt.puts['impliedVolatility'].fillna(0)\n",
    "            \n",
    "            iv_weighted_sum += (calls_iv * calls_oi).sum() + (puts_iv * puts_oi).sum()\n",
    "            total_weight += calls_oi.sum() + puts_oi.sum()\n",
    "        \n",
    "        iv = round(iv_weighted_sum / total_weight, 4) if total_weight > 0 else np.nan\n",
    "        \n",
    "        return oi_calls, oi_puts, iv\n",
    "    except Exception as e:\n",
    "        print(f\"Error fetching options data: {str(e)}\")\n",
    "        return None\n",
    "\n",
    "def get_next_earnings_date(ticker: yf.Ticker) -> str:\n",
    "    try:\n",
    "        earnings_calendar = ticker.earnings_dates\n",
    "        if earnings_calendar is not None and not earnings_calendar.empty:\n",
    "            today = datetime.now(timezone.utc).date()\n",
    "            future_dates = earnings_calendar[earnings_calendar.index.date > today]\n",
    "            if not future_dates.empty:\n",
    "                next_date = future_dates.index[-1]\n",
    "                return next_date.strftime('%Y-%m-%d')\n",
    "            else:\n",
    "                return 'No future earnings date available'\n",
    "    except Exception as e:\n",
    "        print(f\"Error fetching earnings date: {str(e)}\")\n",
    "    return 'N/A'"
   ]
  },
  {
   "cell_type": "code",
   "execution_count": 210,
   "id": "f79e8da1-dec0-48cb-abc0-5fff0eb60d40",
   "metadata": {},
   "outputs": [
    {
     "name": "stdout",
     "output_type": "stream",
     "text": [
      "CPU times: user 1.9 s, sys: 102 ms, total: 2.01 s\n",
      "Wall time: 7.34 s\n"
     ]
    }
   ],
   "source": [
    "%%time\n",
    "\n",
    "# Usage\n",
    "tickers = ['NVDA', 'AAPL', 'MSFT']#, 'GOOGL', 'AMZN']  # Add more tickers as needed\n",
    "result = get_stock_data(tickers)"
   ]
  },
  {
   "cell_type": "code",
   "execution_count": 211,
   "id": "e63f5e00-59fe-466d-8c11-e46a19922851",
   "metadata": {},
   "outputs": [
    {
     "data": {
      "text/html": [
       "<div>\n",
       "<style scoped>\n",
       "    .dataframe tbody tr th:only-of-type {\n",
       "        vertical-align: middle;\n",
       "    }\n",
       "\n",
       "    .dataframe tbody tr th {\n",
       "        vertical-align: top;\n",
       "    }\n",
       "\n",
       "    .dataframe thead th {\n",
       "        text-align: right;\n",
       "    }\n",
       "</style>\n",
       "<table border=\"1\" class=\"dataframe\">\n",
       "  <thead>\n",
       "    <tr style=\"text-align: right;\">\n",
       "      <th></th>\n",
       "      <th>ticker</th>\n",
       "      <th>name</th>\n",
       "      <th>shares</th>\n",
       "      <th>calls_oi</th>\n",
       "      <th>puts_oi</th>\n",
       "      <th>total_oi</th>\n",
       "      <th>ratio</th>\n",
       "      <th>iv</th>\n",
       "      <th>next_earnings</th>\n",
       "    </tr>\n",
       "  </thead>\n",
       "  <tbody>\n",
       "    <tr>\n",
       "      <th>0</th>\n",
       "      <td>NVDA</td>\n",
       "      <td>NVIDIA Corporation</td>\n",
       "      <td>24598300672</td>\n",
       "      <td>13770351</td>\n",
       "      <td>13660368</td>\n",
       "      <td>27430719</td>\n",
       "      <td>0.1115</td>\n",
       "      <td>0.7505</td>\n",
       "      <td>2024-08-21</td>\n",
       "    </tr>\n",
       "    <tr>\n",
       "      <th>1</th>\n",
       "      <td>AAPL</td>\n",
       "      <td>Apple Inc.</td>\n",
       "      <td>15334099968</td>\n",
       "      <td>3659201</td>\n",
       "      <td>2417840</td>\n",
       "      <td>6077041</td>\n",
       "      <td>0.0396</td>\n",
       "      <td>0.3526</td>\n",
       "      <td>2024-08-01</td>\n",
       "    </tr>\n",
       "    <tr>\n",
       "      <th>2</th>\n",
       "      <td>MSFT</td>\n",
       "      <td>Microsoft Corporation</td>\n",
       "      <td>7432309760</td>\n",
       "      <td>1112556</td>\n",
       "      <td>1008079</td>\n",
       "      <td>2120635</td>\n",
       "      <td>0.0285</td>\n",
       "      <td>0.3410</td>\n",
       "      <td>2024-07-30</td>\n",
       "    </tr>\n",
       "  </tbody>\n",
       "</table>\n",
       "</div>"
      ],
      "text/plain": [
       "  ticker                   name       shares  calls_oi   puts_oi  total_oi  \\\n",
       "0   NVDA     NVIDIA Corporation  24598300672  13770351  13660368  27430719   \n",
       "1   AAPL             Apple Inc.  15334099968   3659201   2417840   6077041   \n",
       "2   MSFT  Microsoft Corporation   7432309760   1112556   1008079   2120635   \n",
       "\n",
       "    ratio      iv next_earnings  \n",
       "0  0.1115  0.7505    2024-08-21  \n",
       "1  0.0396  0.3526    2024-08-01  \n",
       "2  0.0285  0.3410    2024-07-30  "
      ]
     },
     "execution_count": 211,
     "metadata": {},
     "output_type": "execute_result"
    }
   ],
   "source": [
    "result.head()"
   ]
  },
  {
   "cell_type": "code",
   "execution_count": 212,
   "id": "fa27ef47-64bf-45a1-be8c-79874fce6e15",
   "metadata": {},
   "outputs": [
    {
     "name": "stdout",
     "output_type": "stream",
     "text": [
      "['A', 'AA', 'AACT', 'AAN', 'AAP', 'AAT', 'AB', 'ABBV', 'ABEV', 'ABG']\n",
      "3170\n",
      "est. rutime: 116 min\n"
     ]
    }
   ],
   "source": [
    "# Open the file\n",
    "filepath = 'tickers/nyse_tickers.txt'\n",
    "\n",
    "with open(filepath, 'r') as file:\n",
    "    # Read the lines and store them in a list\n",
    "    lines = file.readlines()\n",
    "\n",
    "# Remove newline characters\n",
    "tickers = [line.strip() for line in lines]\n",
    "\n",
    "# Print the list to verify\n",
    "print(tickers[:10])\n",
    "print(len(tickers))\n",
    "\n",
    "print(\"est. rutime:\", round(len(tickers)*2.2 / 60), \"min\")"
   ]
  },
  {
   "cell_type": "code",
   "execution_count": null,
   "id": "e74e895b-7f48-4156-9ce6-993f2c69b652",
   "metadata": {},
   "outputs": [],
   "source": [
    "%%time\n",
    "\n",
    "df = get_stock_data(tickers)"
   ]
  },
  {
   "cell_type": "code",
   "execution_count": null,
   "id": "953439f9-7133-4d92-a3aa-434d502e5bd1",
   "metadata": {},
   "outputs": [],
   "source": []
  },
  {
   "cell_type": "code",
   "execution_count": null,
   "id": "24b9af16-718e-4a16-8b67-2da37c71cd8f",
   "metadata": {},
   "outputs": [],
   "source": []
  },
  {
   "cell_type": "code",
   "execution_count": null,
   "id": "529391da-cdd9-41c1-a363-ca298681ac33",
   "metadata": {},
   "outputs": [],
   "source": []
  }
 ],
 "metadata": {
  "kernelspec": {
   "display_name": "Python 3",
   "language": "python",
   "name": "python3"
  },
  "language_info": {
   "codemirror_mode": {
    "name": "ipython",
    "version": 3
   },
   "file_extension": ".py",
   "mimetype": "text/x-python",
   "name": "python",
   "nbconvert_exporter": "python",
   "pygments_lexer": "ipython3",
   "version": "3.8.8"
  }
 },
 "nbformat": 4,
 "nbformat_minor": 5
}
